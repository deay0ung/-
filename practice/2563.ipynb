{
 "cells": [
  {
   "cell_type": "code",
   "execution_count": 25,
   "metadata": {},
   "outputs": [
    {
     "name": "stdout",
     "output_type": "stream",
     "text": [
      "260\n"
     ]
    }
   ],
   "source": [
    "A = [[0]*100 for _ in range(100)]\n",
    "N = int(input())\n",
    "answer = 0\n",
    "\n",
    "for i in range(N):\n",
    "    r, c = map(int,input().split())\n",
    "\n",
    "    for row in range(r, r + 10):\n",
    "        for col in range(c, c + 10):\n",
    "            A[row][col] = 1\n",
    "\n",
    "for i in A:\n",
    "    answer += i.count(1)\n",
    "\n",
    "print(answer)"
   ]
  },
  {
   "cell_type": "code",
   "execution_count": null,
   "metadata": {},
   "outputs": [],
   "source": [
    "3\n",
    "3 7\n",
    "15 7\n",
    "5 2"
   ]
  }
 ],
 "metadata": {
  "kernelspec": {
   "display_name": "Python 3",
   "language": "python",
   "name": "python3"
  },
  "language_info": {
   "codemirror_mode": {
    "name": "ipython",
    "version": 3
   },
   "file_extension": ".py",
   "mimetype": "text/x-python",
   "name": "python",
   "nbconvert_exporter": "python",
   "pygments_lexer": "ipython3",
   "version": "3.11.2"
  }
 },
 "nbformat": 4,
 "nbformat_minor": 2
}
