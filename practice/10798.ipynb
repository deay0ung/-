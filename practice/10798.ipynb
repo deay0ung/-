{
 "cells": [
  {
   "cell_type": "code",
   "execution_count": 8,
   "metadata": {},
   "outputs": [
    {
     "name": "stdout",
     "output_type": "stream",
     "text": [
      "\n"
     ]
    }
   ],
   "source": [
    "input_list = []\n",
    "result = ''\n",
    "\n",
    "for i in range(5):\n",
    "    input_list.append(input())\n",
    "\n",
    "for c in range(15):\n",
    "    for r in range(5):\n",
    "        try:\n",
    "            if input_list[r][c] == '':\n",
    "                continue\n",
    "            else:\n",
    "                \n",
    "                result += input_list[r][c]\n",
    "        except:\n",
    "            continue\n",
    "        \n",
    "print(result)"
   ]
  },
  {
   "cell_type": "code",
   "execution_count": 11,
   "metadata": {},
   "outputs": [
    {
     "name": "stdout",
     "output_type": "stream",
     "text": [
      "Aa0FfBb1GgCc2HhDd3IiEe4Jj\n"
     ]
    }
   ],
   "source": [
    "input_list = [input() for i in range(5)]\n",
    "result = ''\n",
    "\n",
    "for c in range(15):\n",
    "    for r in range(5):\n",
    "        if len(input_list[r]) > c:\n",
    "            result += input_list[r][c]\n",
    "        \n",
    "print(result)"
   ]
  },
  {
   "cell_type": "code",
   "execution_count": 10,
   "metadata": {},
   "outputs": [
    {
     "name": "stdout",
     "output_type": "stream",
     "text": [
      " c\n"
     ]
    }
   ],
   "source": [
    "a = ' '\n",
    "b= 'c'\n",
    "print(a+b)"
   ]
  }
 ],
 "metadata": {
  "kernelspec": {
   "display_name": "Python 3",
   "language": "python",
   "name": "python3"
  },
  "language_info": {
   "codemirror_mode": {
    "name": "ipython",
    "version": 3
   },
   "file_extension": ".py",
   "mimetype": "text/x-python",
   "name": "python",
   "nbconvert_exporter": "python",
   "pygments_lexer": "ipython3",
   "version": "3.11.2"
  }
 },
 "nbformat": 4,
 "nbformat_minor": 2
}
