{
 "cells": [
  {
   "cell_type": "code",
   "execution_count": 1,
   "id": "a9efb9e9",
   "metadata": {},
   "outputs": [],
   "source": [
    "max_num = -1\n",
    "r, c = 0,0\n",
    "num_list = []\n",
    "\n",
    "for i in range(1):\n",
    "    num_input = list(map(int,input().split()))\n",
    "    if max_num <= max(num_input):\n",
    "        max_num = max(num_input)\n",
    "        r = i + 1\n",
    "        c = num_input.index(max(num_input)) + 1\n",
    "        \n",
    "print(max_num)\n",
    "print(r, c)"
   ]
  },
  {
   "cell_type": "code",
   "execution_count": null,
   "id": "e35cda46",
   "metadata": {},
   "outputs": [],
   "source": [
    "num_list = []\n",
    "\n",
    "for _ in range(9):\n",
    "    num_list.append(list(map(int, input().split())))\n",
    "\n",
    "max_value = 0\n",
    "row = 0\n",
    "col = 0\n",
    "\n",
    "for i in range(9):\n",
    "    for j in range(9):\n",
    "        if num_list[i][j] >= max_value:\n",
    "            max_value = num_list[i][j]\n",
    "            row = i+1\n",
    "            col = j+1\n",
    "\n",
    "print(max_value)\n",
    "print(row, col)"
   ]
  }
 ],
 "metadata": {
  "kernelspec": {
   "display_name": "Python 3",
   "language": "python",
   "name": "python3"
  },
  "language_info": {
   "codemirror_mode": {
    "name": "ipython",
    "version": 3
   },
   "file_extension": ".py",
   "mimetype": "text/x-python",
   "name": "python",
   "nbconvert_exporter": "python",
   "pygments_lexer": "ipython3",
   "version": "3.11.2"
  }
 },
 "nbformat": 4,
 "nbformat_minor": 5
}
