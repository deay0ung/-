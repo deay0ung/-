{
 "cells": [
  {
   "cell_type": "code",
   "execution_count": 1,
   "id": "9273f6b6",
   "metadata": {},
   "outputs": [
    {
     "name": "stdout",
     "output_type": "stream",
     "text": [
      "5 \n"
     ]
    }
   ],
   "source": [
    "n,m = map(int, input().split())\n",
    "A = []\n",
    "B = []\n",
    "\n",
    "for i in range(n):\n",
    "    a = list(map(int,input().split()))\n",
    "    A.append(a)\n",
    "    \n",
    "for i in range(n):\n",
    "    b = list(map(int,input().split()))\n",
    "    B.append(b)\n",
    "    \n",
    "for i in range(n):\n",
    "    for j in range(m):\n",
    "        c = A[i][j] + B[i][j]\n",
    "        print(c, end=' ')\n",
    "    print()"
   ]
  },
  {
   "cell_type": "code",
   "execution_count": null,
   "id": "76afba00",
   "metadata": {},
   "outputs": [],
   "source": [
    "a = input().split()\n",
    "a[0]"
   ]
  }
 ],
 "metadata": {
  "kernelspec": {
   "display_name": "Python 3 (ipykernel)",
   "language": "python",
   "name": "python3"
  },
  "language_info": {
   "codemirror_mode": {
    "name": "ipython",
    "version": 3
   },
   "file_extension": ".py",
   "mimetype": "text/x-python",
   "name": "python",
   "nbconvert_exporter": "python",
   "pygments_lexer": "ipython3",
   "version": "3.7.16"
  }
 },
 "nbformat": 4,
 "nbformat_minor": 5
}
